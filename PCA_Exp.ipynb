{
 "cells": [
  {
   "cell_type": "code",
   "execution_count": null,
   "metadata": {
    "collapsed": true
   },
   "outputs": [],
   "source": [
    "### SVM classification on PCA of MNIST and OMNIGLOT"
   ]
  },
  {
   "cell_type": "code",
   "execution_count": null,
   "metadata": {
    "collapsed": true
   },
   "outputs": [],
   "source": [
    "## SVM classification on PCA of MNIST"
   ]
  },
  {
   "cell_type": "code",
   "execution_count": null,
   "metadata": {
    "collapsed": true
   },
   "outputs": [],
   "source": [
    "import numpy as np\n",
    "from sklearn.decomposition import PCA\n",
    "from sklearn.svm import SVC\n",
    "from matplotlib import pyplot as plt"
   ]
  },
  {
   "cell_type": "code",
   "execution_count": null,
   "metadata": {
    "collapsed": false
   },
   "outputs": [],
   "source": [
    "##Load the training, testing and validation dataset\n",
    "def load_data():\n",
    "    train,test,val = np.load('InData/mnist.pkl',mmap_mode='r')\n",
    "    print 'x_train \\t | y_train \\t| x_test \\t | y_test \\t| x_val \\t| y_val \\n----------------------------------------------------------------------------------------'\n",
    "    print np.shape(train[0]),'\\t',np.shape(train[1]),'\\t',np.shape(test[0]),'\\t',np.shape(test[1]),'\\t',np.shape(val[0]),'\\t',np.shape(val[1])\n",
    "    return train[0], train[1], test[0], test[1], val[0], val[1]\n",
    "x_train,y_train,x_test,y_test,x_val,y_val=load_data()"
   ]
  },
  {
   "cell_type": "code",
   "execution_count": null,
   "metadata": {
    "collapsed": false
   },
   "outputs": [],
   "source": [
    "#Perform PCA to get 10 elements\n",
    "model=PCA(n_components=10).fit(x_train) #\n",
    "enc_train=model.transform(x_train)\n",
    "enc_test=model.transform(x_test)\n",
    "classifier=SVC().fit(enc_train,y_train) #default rbf kernel\n",
    "score=classifier.score(enc_test,y_test)\n",
    "print \"mean accuracy (SVM):\",score*100,'%'\n"
   ]
  },
  {
   "cell_type": "code",
   "execution_count": null,
   "metadata": {
    "collapsed": false
   },
   "outputs": [],
   "source": [
    "#Perfom PCA to get 2 elements and visualise\n",
    "model=PCA(n_components=2).fit(x_train)\n",
    "enc_test=model.transform(x_test)\n",
    "colours=['red','green','blue','black','pink','orange','purple','gray','cyan','magenta']\n",
    "for i in range(enc_test.shape[0]):\n",
    "        plt.scatter(enc_test[i,0],enc_test[i,1], color=colours[y_test[i]])\n",
    "        plt.title('Test Data')\n",
    "plt.show()"
   ]
  },
  {
   "cell_type": "code",
   "execution_count": null,
   "metadata": {
    "collapsed": true
   },
   "outputs": [],
   "source": [
    "## SVM classification on PCA of OMNIGLOT"
   ]
  },
  {
   "cell_type": "code",
   "execution_count": null,
   "metadata": {
    "collapsed": false
   },
   "outputs": [],
   "source": [
    "import theano\n",
    "floatX=theano.config.floatX"
   ]
  },
  {
   "cell_type": "code",
   "execution_count": null,
   "metadata": {
    "collapsed": true
   },
   "outputs": [],
   "source": [
    "##Load the training, testing and validation datasets\n",
    "def load_data():\n",
    "    x_train=np.load('InData/omniglot/omni_back_shfl_X.npy', mmap_mode='r')\n",
    "    y_train=np.load('InData/omniglot/omni_back_shfl_Y.npy',mmap_mode='r')\n",
    "    x_test=np.load('InData/omniglot/omni_eval_X.npy',mmap_mode='r')\n",
    "    y_test=np.load('InData/omniglot/omni_eval_Y.npy', mmap_mode='r')\n",
    "    \n",
    "    x_temp=np.load('InData/omniglot/omni_back_X.npy',mmap_mode='r')\n",
    "    y_temp=np.load('InData/omniglot/omni_back_Y.npy',mmap_mode='r')\n",
    "    x_val=np.reshape(np.concatenate([x_temp[i] for i in range(0,x_temp.shape[0],20)]),(-1,1,105,105))\n",
    "    y_val=[y_temp[i] for i in range(0,x_temp.shape[0],20)]\n",
    "    \n",
    "    print 'x_train  \\t\\t | y_train \\t| x_test  \\t\\t| y_test \\t  | x_val   \\t\\t | y_val \\n-----------------------------------------------------------------------------------------------------------'\n",
    "    print np.shape(x_train),'\\t',np.shape(y_train),'\\t',np.shape(x_test),'\\t',np.shape(y_test),'\\t\\t',np.shape(x_val),'\\t',np.shape(y_val)\n",
    "    return x_train.astype(floatX), y_train, x_test.astype(floatX), y_test, x_val.astype(floatX), y_val"
   ]
  },
  {
   "cell_type": "code",
   "execution_count": null,
   "metadata": {
    "collapsed": false
   },
   "outputs": [],
   "source": [
    "x_train,y_train,x_test,y_test,x_val,y_val=load_data()"
   ]
  },
  {
   "cell_type": "code",
   "execution_count": null,
   "metadata": {
    "collapsed": false
   },
   "outputs": [],
   "source": [
    "#Perform PCA to get 200 elements (same as n_hidden used to trian most DAAE, iDAAE, AAE models)\n",
    "x_train=x_train.reshape(-1,105*105)\n",
    "x_val=x_val.reshape(-1,105*105)\n",
    "model=PCA(n_components=200).fit(x_train.reshape(-1,105*105)) #\n",
    "enc_train=model.transform(x_train)\n",
    "enc_val=model.transform(x_val)\n",
    "classifier=SVC().fit(enc_train,y_train) #default rbf kernel\n",
    "y_val=np.asarray(y_val, dtype=int)\n",
    "score=classifier.score(enc_val,y_val)\n",
    "print \"mean accuracy (SVM):\",score*100,'%'"
   ]
  },
  {
   "cell_type": "code",
   "execution_count": null,
   "metadata": {
    "collapsed": false
   },
   "outputs": [],
   "source": [
    "## 20 class classfication (for 1st 20 classes of the eval data set using leave one out method)\n",
    "start=0 # =0 to take 1st 20 (>0 for other subsets - multiple of 20)\n",
    "model=PCA(n_components=200).fit(x_test[start:start+20*20].reshape(-1,105*105)) #\n",
    "enc_test=model.transform(x_test[start:start+20*20].reshape(-1,105*105))\n",
    "print np.shape(enc_test)\n",
    "\n",
    "all_score_test=[]\n",
    "all_score_train=[]\n",
    "for i in range(20): #keep out the ith samples, train on the rest\n",
    "    x_20_test=enc_test[i::20]; #take the ith samples for testing\n",
    "    y_20_test=y_test[start:start+20*20][i::20]; #take the ith samples for testing for 1st 20 classes\n",
    "    x_20_train=np.delete(enc_test, range(i,enc_test.shape[0],20), axis=0) #remove the ith samples for training\n",
    "    y_20_train=np.delete(y_test[start:start+20*20], range(i,enc_test.shape[0],20), axis=0) #remove the ith samples for training for the 1st 20 classes\n",
    "\n",
    "#     print 'stand out samples:\\n',range(i,enc_test.shape[0],20)\n",
    "\n",
    "#     print np.unique(y_20_test),'\\n', np.unique(y_20_train)\n",
    "#     print np.shape(x_20_test), np.shape(x_20_train), np.shape(y_20_test), np.shape(y_20_train)\n",
    "\n",
    "    classifier=SVC(kernel='linear').fit(x_20_train,y_20_train) #default rbf kernel\n",
    "    y_val=np.asarray(y_val,dtype=int)\n",
    "    score_test=classifier.score(x_20_test,y_20_test)\n",
    "    score_train=classifier.score(x_20_train, y_20_train)\n",
    "    all_score_test.append(score_test)\n",
    "    all_score_train.append(score_train)\n",
    "print \"\\n mean test accuracy on \", len(all_score_test), \"sets of 20-way classification:\", np.mean(all_score_test)*100,\"%\"\n",
    "print \"\\n (mean train accuracy on \", len(all_score_train), \"sets of 20-way classification:\", np.mean(all_score_train)*100,\"%\"\n",
    "print \"\\n max test accuracy on \", len(all_score_test), \"sets of 20-way classification:\", np.max(all_score_test)*100,\"%\""
   ]
  },
  {
   "cell_type": "code",
   "execution_count": null,
   "metadata": {
    "collapsed": true
   },
   "outputs": [],
   "source": [
    "exit()"
   ]
  },
  {
   "cell_type": "code",
   "execution_count": null,
   "metadata": {
    "collapsed": true
   },
   "outputs": [],
   "source": []
  }
 ],
 "metadata": {
  "kernelspec": {
   "display_name": "Python 2",
   "language": "python",
   "name": "python2"
  },
  "language_info": {
   "codemirror_mode": {
    "name": "ipython",
    "version": 2
   },
   "file_extension": ".py",
   "mimetype": "text/x-python",
   "name": "python",
   "nbconvert_exporter": "python",
   "pygments_lexer": "ipython2",
   "version": "2.7.6"
  }
 },
 "nbformat": 4,
 "nbformat_minor": 2
}
