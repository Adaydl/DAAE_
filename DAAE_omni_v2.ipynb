{
 "cells": [
  {
   "cell_type": "code",
   "execution_count": 1,
   "metadata": {
    "collapsed": true
   },
   "outputs": [],
   "source": [
    "### Denoising Adverarial Autoencoder (omniglot) : Version 2 : matching q*(z|x) to p(z)\n",
    "#if n_hidden==n uses nD normal"
   ]
  },
  {
   "cell_type": "code",
   "execution_count": null,
   "metadata": {
    "collapsed": false
   },
   "outputs": [
    {
     "name": "stderr",
     "output_type": "stream",
     "text": [
      "WARNING (theano.sandbox.cuda): The cuda backend is deprecated and will be removed in the next release.  Please switch to the gpuarray backend. You can get more information about how to switch at this URL:\n",
      " https://github.com/Theano/Theano/wiki/Converting-to-the-new-gpu-back-end%28gpuarray%29\n",
      "\n",
      "Using gpu device 0: GeForce GTX 980 (CNMeM is disabled, cuDNN not available)\n"
     ]
    }
   ],
   "source": [
    "from lasagne.layers import InputLayer, DenseLayer, Conv2DLayer, Deconv2DLayer, flatten, reshape, batch_norm\n",
    "from lasagne.nonlinearities import rectify as relu\n",
    "from lasagne.nonlinearities import LeakyRectify as lrelu\n",
    "from lasagne.nonlinearities import sigmoid\n",
    "from lasagne.layers import get_output, get_all_params, get_output_shape\n",
    "from lasagne.objectives import binary_crossentropy as bce\n",
    "from lasagne.objectives import squared_error\n",
    "from lasagne.updates import adam,sgd\n",
    "\n",
    "import numpy as np\n",
    "import theano\n",
    "from theano import tensor as T\n",
    "import time\n",
    "from matplotlib import pyplot as plt \n",
    "%matplotlib inline\n",
    "\n",
    "from skimage.io import imsave\n",
    "\n",
    "import sklearn\n",
    "from sklearn.cluster import KMeans\n",
    "from sklearn.decomposition import PCA\n",
    "from sklearn.mixture import GaussianMixture\n",
    "from sklearn.svm import SVC\n",
    "from sklearn import neighbors\n",
    "\n",
    "#for log likelihood\n",
    "from ll import ll\n",
    "#using code from goodfellow repo insted\n",
    "from parzen import theano_parzen,get_nll,cross_validate_sigma\n",
    "\n",
    "floatX=theano.config.floatX"
   ]
  },
  {
   "cell_type": "code",
   "execution_count": 3,
   "metadata": {
    "collapsed": false
   },
   "outputs": [],
   "source": [
    "#Options for the network\n",
    "class options(object):\n",
    "    def __init__(self):\n",
    "        self.n_hidden=200    #size of encoding\n",
    "        self.alpha=1e-5      #learnig rate\n",
    "        self.sigma=0.5       #standard deviation of gaussian corruption process\n",
    "        self.batchsize=64    #batch size used for training\n",
    "        self.epoch=1000      #number of training iterations\n",
    "        self.upper_bound=0.75 #only train discriminator is the encoder adv loss is less than this upper bound\n",
    "        self.M=5             #number of intergration steps\n",
    "        \n",
    "myOpts=options()"
   ]
  },
  {
   "cell_type": "code",
   "execution_count": 4,
   "metadata": {
    "collapsed": true
   },
   "outputs": [],
   "source": [
    "##Build the networks\n",
    "def build_net(opts):\n",
    "    \n",
    "    #Encoder x* --> z\n",
    "    enc=InputLayer(shape=(None,1,105,105))\n",
    "    enc=flatten(incoming=enc, outdim=2)\n",
    "    enc=DenseLayer(incoming=enc, num_units=1000, nonlinearity=relu)\n",
    "    enc=DenseLayer(incoming=enc, num_units=1000,nonlinearity=relu)\n",
    "    enc=DenseLayer(incoming=enc, num_units=1000,nonlinearity=relu)\n",
    "    enc=DenseLayer(incoming=enc, num_units=opts.n_hidden,nonlinearity=lrelu(1))\n",
    "    \n",
    "    #Decoder z --> x\n",
    "    dec=InputLayer(shape=(None,opts.n_hidden))\n",
    "    dec=DenseLayer(incoming=dec, num_units=1000,nonlinearity=relu)\n",
    "    dec=DenseLayer(incoming=dec, num_units=1000,nonlinearity=relu)\n",
    "    dec=DenseLayer(incoming=dec, num_units=1000,nonlinearity=relu)\n",
    "    dec=DenseLayer(incoming=dec, num_units=1000,nonlinearity=relu)\n",
    "    dec=DenseLayer(incoming=dec, num_units=1000,nonlinearity=relu)\n",
    "    dec=DenseLayer(incoming=dec, num_units=1000,nonlinearity=relu)\n",
    "    dec=DenseLayer(incoming=dec, num_units=105*105,nonlinearity=sigmoid)\n",
    "    dec=reshape(incoming=dec, shape=(-1, 1, 105, 105))\n",
    "    \n",
    "    #Discriminator z --> real(1) or fake(0)\n",
    "    dis=InputLayer(shape=(None,opts.n_hidden))\n",
    "    dis=DenseLayer(incoming=dis, num_units=1000,nonlinearity=relu)\n",
    "    dis=DenseLayer(incoming=dis, num_units=1000,nonlinearity=relu)\n",
    "    dis=DenseLayer(incoming=dis, num_units=1,nonlinearity=sigmoid)\n",
    "    \n",
    "    return enc, dec, dis\n",
    "    "
   ]
  },
  {
   "cell_type": "code",
   "execution_count": 5,
   "metadata": {
    "collapsed": false
   },
   "outputs": [],
   "source": [
    "##Make the training, encoding and sampling theano functions\n",
    "def prep_train(opts):\n",
    "    #opts.sigma = variation of the gaussian noise used to corrupt the input\n",
    "    enc,dec,dis=build_net(opts)\n",
    "    \n",
    "    #Symbolic vars\n",
    "    x=T.tensor4('x') #MNIST are saved as vectors\n",
    "    z=T.matrix('z')\n",
    "\n",
    "    #The outputs for training autoencoder:\n",
    "    rng=T.shared_randomstreams.RandomStreams(np.random.randint(low=1,high=1234))\n",
    "    corr_x=x+opts.sigma*rng.normal(size=T.shape(x),dtype=floatX) #corrupted x\n",
    "    enc_x_corr=get_output(enc,corr_x) #enc(x*) encoding corrupted x\n",
    "    dec_enc_x_corr=get_output(dec,enc_x_corr) #dec(enc(x*)) decoding the encoded corrupted input\n",
    "    \n",
    "    #The outputs for training encoder w/ discriminative loss\n",
    "    zi=T.zeros((x.shape[0],opts.n_hidden))\n",
    "    for i in range(opts.M): #corrupt a single x sample M times and encode that corrupted sample\n",
    "        corr_x_i=x+opts.sigma*rng.normal(size=T.shape(x),dtype=floatX) #corrupted x\n",
    "        zi+=get_output(enc,corr_x_i) #sum z_i's\n",
    "    z_fake=zi/opts.M #the mean enocoded z\n",
    "        \n",
    "    p_fake=get_output(dis,z_fake) #D(enc(x)) is decoded x_corr real or fake? fake\n",
    "    p_real=get_output(dis,z) #D(z) is z real or fake? real\n",
    "    \n",
    "    #Prevent bce --> NAN\n",
    "    p_real=T.clip(p_real, 0.001, 0.999)\n",
    "    p_fake=T.clip(p_fake,0.001, 0.999)\n",
    "    dec_enc_x_corr=T.clip(dec_enc_x_corr,0.001,0.99)\n",
    "    \n",
    "    #The outputs for testing:\n",
    "    samples=get_output(dec,z,deterministic=True) #generated samples\n",
    "    encoding=get_output(enc,x,deterministic=True) #encoded samples (w/out corrupting)\n",
    "    reconstruction=get_output(dec,enc_x_corr,deterministic=True) #reconstructed samples\n",
    "    \n",
    "    #The params\n",
    "    params_enc=get_all_params(enc)\n",
    "    params_dec=get_all_params(dec)\n",
    "    params_dis=get_all_params(dis)\n",
    "\n",
    "    #The loss\n",
    "    #The reconstruction loss\n",
    "    J_rec=bce(dec_enc_x_corr,x).mean()\n",
    "\n",
    "    #The prior matching loss (adv loss)\n",
    "    J_adv_dis=bce(p_real, T.ones_like(p_real)).mean()+bce(p_fake, T.zeros_like(p_fake)).mean()\n",
    "    J_adv_enc=bce(p_fake, T.ones_like(p_fake)).mean()\n",
    "\n",
    "    #The updates\n",
    "    update_rec=adam(J_rec, params_enc+params_dec,learning_rate=opts.alpha) #update the encoder and decoder w/ reconstruction loss\n",
    "    update_dis=adam(J_adv_dis, params_dis,learning_rate=opts.alpha) #update the discriminator w/ adversarial loss\n",
    "    update_enc=adam(J_adv_enc, params_enc,learning_rate=opts.alpha) #update the encoder w/ adversarial loss\n",
    "\n",
    "    #The theano training functions\n",
    "    train_rec=theano.function(inputs=[x],outputs=J_rec, updates=update_rec) #trains encoder and decoder using reconstruction loss\n",
    "    train_dis=theano.function(inputs=[x,z],outputs=J_adv_dis, updates=update_dis) #trains discriminator using adversarial loss\n",
    "    train_enc=theano.function(inputs=[x],outputs=J_adv_enc, updates=update_enc) #trains encoder only using adversarial loss\n",
    "    \n",
    "    #The theano testing functions\n",
    "    sample=theano.function(inputs=[z],outputs=samples) #synthesise samples\n",
    "    encode=theano.function(inputs=[x],outputs=encoding) #encode samples\n",
    "    reconstruct=theano.function(inputs=[x], outputs=[squared_error(x,reconstruction),reconstruction]) #corrupt and reconstruct samples\n",
    "    \n",
    "    return train_rec,train_dis,train_enc,  sample,encode,reconstruct, enc,dec,dis\n",
    "    \n",
    "    "
   ]
  },
  {
   "cell_type": "code",
   "execution_count": 6,
   "metadata": {
    "collapsed": false
   },
   "outputs": [],
   "source": [
    "##Load the training, testing and validation datasets\n",
    "#(N.B. in paper the testing datasets have different names:\n",
    "# trainig (paper: training), testing (paper: evaluation), validation (paper: testing))\n",
    "def load_data():\n",
    "    x_train=np.load('../../InData/omniglot/omni_back_shfl_X.npy', mmap_mode='r')\n",
    "    y_train=np.load('../../InData/omniglot/omni_back_shfl_Y.npy',mmap_mode='r')\n",
    "    x_test=np.load('../../InData/omniglot/omni_eval_X.npy',mmap_mode='r')\n",
    "    y_test=np.load('../../InData/omniglot/omni_eval_Y.npy', mmap_mode='r')\n",
    "\n",
    "    x_temp=np.load('../../InData/omniglot/omni_back_X.npy',mmap_mode='r')\n",
    "    y_temp=np.load('../../InData/omniglot/omni_back_Y.npy',mmap_mode='r')\n",
    "    x_val=np.reshape(np.concatenate([x_temp[i] for i in range(0,x_temp.shape[0],20)]),(-1,1,105,105))\n",
    "    y_val=[y_temp[i] for i in range(0,x_temp.shape[0],20)]\n",
    "    \n",
    "    print 'x_train  \\t\\t | y_train \\t| x_test  \\t\\t| y_test \\t  | x_val   \\t\\t | y_val \\n-----------------------------------------------------------------------------------------------------------'\n",
    "    print np.shape(x_train),'\\t',np.shape(y_train),'\\t',np.shape(x_test),'\\t',np.shape(y_test),'\\t\\t',np.shape(x_val),'\\t',np.shape(y_val)\n",
    "    return x_train.astype(floatX), y_train, x_test.astype(floatX), y_test, x_val.astype(floatX), y_val"
   ]
  },
  {
   "cell_type": "code",
   "execution_count": 7,
   "metadata": {
    "collapsed": false
   },
   "outputs": [],
   "source": [
    "#if opts.n_hidden=2 will give a 2D 10-GMM otherise gives a multivariate gaussian\n",
    "def P_z(size,type=None):\n",
    "    if size[1] is 2:\n",
    "        #samples at 2D 10-GMM\n",
    "        p=np.random.randint(low=0, high=10, size=(size[0],1))\n",
    "        samples_x=np.zeros((size[0],1))\n",
    "        samples_y=np.zeros((size[0],1))\n",
    "\n",
    "        r=4\n",
    "        theta=np.pi*2/10\n",
    "        for i in range(10):\n",
    "            samples_x+=(p==i)*np.random.normal(loc=r*(np.sin(i*theta)+np.cos(i*theta)), scale=0.5, size=(size[0],1))\n",
    "            samples_y+=(p==i)*np.random.normal(loc=r*(-np.sin(i*theta)+np.cos(i*theta)), scale=0.5, size=(size[0],1))\n",
    "        return np.hstack([samples_x,samples_y]).astype(floatX)\n",
    "    else:\n",
    "        return np.random.normal(size=size).astype(floatX)"
   ]
  },
  {
   "cell_type": "code",
   "execution_count": 8,
   "metadata": {
    "collapsed": true
   },
   "outputs": [],
   "source": [
    "##Training function\n",
    "def train(opts):\n",
    "    train_rec,train_dis,train_enc,  sample,encode,reconstruct,  enc,dec,dis=prep_train(opts)\n",
    "    x_train,y_train,x_test,y_test,x_val,y_val=load_data()\n",
    "    \n",
    "    batches=int(float(x_train.shape[0])/opts.batchsize)\n",
    "    \n",
    "    #Tally of costs\n",
    "    cost_rec=[] #reconstruction cost of the encoder, decoder net\n",
    "    cost_dis=[] #aversarial cost on discriminator\n",
    "    cost_enc=[] #adversarial cost on encoding\n",
    "    \n",
    "    print 'epoch   batch   cost_dis   cost_enc   cost_rec   time '\n",
    "    for e in range(opts.epoch):\n",
    "        timer = time.time()\n",
    "        for b in np.random.permutation(range(batches)):\n",
    "            #draw a batch of latent samples from the prior\n",
    "            Z=P_z(size=(opts.batchsize,opts.n_hidden))\n",
    "            X=x_train[b*opts.batchsize:(1+b)*opts.batchsize]\n",
    "            #train the discriminator\n",
    "            cost_dis.append(train_dis(X,Z))\n",
    "            #train the encoder (w/ adversarial) \n",
    "            cost_enc.append(train_enc(X))\n",
    "            #train the autoencer (enc and dec) (w/ reconstruction loss)\n",
    "            cost_rec.append(train_rec(X))\n",
    "            \n",
    "        print \"%d \\t %d  \\t %.3f \\t %.3f \\t %.3f \\t %.2f\" % (e,b,cost_dis[-1],cost_enc[-1],cost_rec[-1], time.time()-timer)\n",
    "    \n",
    "    return sample,encode,reconstruct,cost_enc,cost_rec,cost_dis\n",
    "    "
   ]
  },
  {
   "cell_type": "code",
   "execution_count": null,
   "metadata": {
    "collapsed": false,
    "scrolled": true
   },
   "outputs": [],
   "source": [
    "##Training \n",
    "sample,encode,reconstruct,cost_enc,cost_rec,cost_dis=train(myOpts)"
   ]
  },
  {
   "cell_type": "code",
   "execution_count": null,
   "metadata": {
    "collapsed": true
   },
   "outputs": [],
   "source": [
    "#Save all models:\n",
    "import pickle\n",
    "dir='DAAE_v2_omni_params'\n",
    "pickle.dump(sample,open(dir+'/sample.pkl','w'))\n",
    "pickle.dump(encode,open(dir+'/encode.pkl','w'))\n",
    "pickle.dump(reconstruct,open(dir+'/reconstruct.pkl','w'))\n",
    "pickle.dump(myOpts,open(dir+'/myOpts.pkl','w'))\n",
    "np.save(dir+'/cost_enc.npy',cost_enc)\n",
    "np.save(dir+'/cost_rec.npy',cost_rec)\n",
    "np.save(dir+'/cost_dis.npy',cost_dis)"
   ]
  },
  {
   "cell_type": "code",
   "execution_count": 9,
   "metadata": {
    "collapsed": false
   },
   "outputs": [
    {
     "name": "stdout",
     "output_type": "stream",
     "text": [
      "sigma: 0.5 , n_hidden 200 , M 5\n"
     ]
    }
   ],
   "source": [
    "#load all models:\n",
    "import pickle\n",
    "# dir='DAAE_v2_omni_params/'\n",
    "dir='../Experiments/omni/DAAE_v2_noise_M5/DAAE_v2_omni_params/'\n",
    "sample=pickle.load(open(dir+'/sample.pkl','r'))\n",
    "encode=pickle.load(open(dir+'/encode.pkl','r'))\n",
    "reconstruct=pickle.load(open(dir+'/reconstruct.pkl','r'))\n",
    "myOpts=pickle.load(open(dir+'/myOpts.pkl','r'))\n",
    "cost_enc=np.load(dir+'/cost_enc.npy')\n",
    "cost_rec=np.load(dir+'/cost_rec.npy')\n",
    "cost_dis=np.load(dir+'/cost_dis.npy')\n",
    "\n",
    "print 'sigma:',myOpts.sigma,', n_hidden',myOpts.n_hidden, ', M', myOpts.M"
   ]
  },
  {
   "cell_type": "code",
   "execution_count": 10,
   "metadata": {
    "collapsed": false
   },
   "outputs": [
    {
     "name": "stdout",
     "output_type": "stream",
     "text": [
      "x_train  \t\t | y_train \t| x_test  \t\t| y_test \t  | x_val   \t\t | y_val \n",
      "-----------------------------------------------------------------------------------------------------------\n",
      "(18316, 1, 105, 105) \t(18316,) \t(13180, 1, 105, 105) \t(13180,) \t\t(964, 1, 105, 105) \t(964,)\n"
     ]
    },
    {
     "data": {
      "text/plain": [
       "<matplotlib.legend.Legend at 0x7efc33bff6d0>"
      ]
     },
     "execution_count": 10,
     "metadata": {},
     "output_type": "execute_result"
    },
    {
     "data": {
      "image/png": "[encoded data removed]",
      "text/plain": [
       "<matplotlib.figure.Figure at 0x7efc33bff750>"
      ]
     },
     "metadata": {},
     "output_type": "display_data"
    }
   ],
   "source": [
    "##Training Plots\n",
    "#Cost plots\n",
    "x_train,y_train,x_test,y_test,x_val,y_val=load_data()\n",
    "step=1./int(float(x_train.shape[0])/myOpts.batchsize)\n",
    "y=np.arange(0,myOpts.epoch,step)\n",
    "#plt.plot(y,cost_dis,label='cost dis') #plot discriminator loss\n",
    "#plt.plot(y,cost_enc,label='cost enc') #plot encoder loss\n",
    "plt.plot(y,cost_rec,label='cost rec')  #plot recosntruction loss\n",
    "plt.legend()"
   ]
  },
  {
   "cell_type": "code",
   "execution_count": 11,
   "metadata": {
    "collapsed": false
   },
   "outputs": [
    {
     "name": "stdout",
     "output_type": "stream",
     "text": [
      "mean squared error loss on eval: 0.0330818 +/- 0.00423119969013\n"
     ]
    },
    {
     "data": {
      "text/plain": [
       "<matplotlib.figure.Figure at 0x7efc33bff390>"
      ]
     },
     "execution_count": 11,
     "metadata": {},
     "output_type": "execute_result"
    },
    {
     "data": {
      "image/png": "[encoded data removed]",
      "text/plain": [
       "<matplotlib.figure.Figure at 0x7efc30bcf250>"
      ]
     },
     "metadata": {},
     "output_type": "display_data"
    },
    {
     "data": {
      "text/plain": [
       "<matplotlib.figure.Figure at 0x7efc33bff390>"
      ]
     },
     "metadata": {},
     "output_type": "display_data"
    }
   ],
   "source": [
    "#Apply reconstruction to all the test images\n",
    "x_rec_loss,x_rec=reconstruct(x_val)\n",
    "print \"mean squared error loss on eval:\", np.mean(x_rec_loss),'+/-', np.std(x_rec_loss)/np.sqrt(x_rec_loss.shape[0])\n",
    "egs=10 #no of random examples to show\n",
    "x_noise=(x_val[:egs].reshape(egs,105,105)+np.random.normal(loc=0.0, scale=myOpts.sigma, size=(egs,105,105))).reshape(egs,105,105)\n",
    "plt.imshow(np.hstack(np.hstack(([x_val[:egs].reshape(egs,105,105),x_noise,x_rec[:egs].reshape(egs,105,105)]))),cmap='gray')\n",
    "plt.figure()"
   ]
  },
  {
   "cell_type": "code",
   "execution_count": 12,
   "metadata": {
    "collapsed": false
   },
   "outputs": [
    {
     "name": "stdout",
     "output_type": "stream",
     "text": [
      "mean accuracy (SVM): 34.0248962656 %\n"
     ]
    }
   ],
   "source": [
    "##Classification\n",
    "#Train a linear SVM on the features from x_train\n",
    "enc_train=encode(x_train) #extract features for training data\n",
    "enc_val=encode(x_val) #extract features for validation data\n",
    "classifier=SVC().fit(enc_train,y_train) #default rbf kernel\n",
    "y_val=np.asarray(y_val, dtype=int)\n",
    "score=classifier.score(enc_val,y_val)\n",
    "print \"mean accuracy (SVM):\",score*100,'%'"
   ]
  },
  {
   "cell_type": "code",
   "execution_count": 13,
   "metadata": {
    "collapsed": false
   },
   "outputs": [
    {
     "name": "stdout",
     "output_type": "stream",
     "text": [
      "(400, 200)\n",
      "0\n",
      "stand out samples:\n",
      "[0, 20, 40, 60, 80, 100, 120, 140, 160, 180, 200, 220, 240, 260, 280, 300, 320, 340, 360, 380]\n",
      "['0965' '0966' '0967' '0968' '0969' '0970' '0971' '0972' '0973' '0974'\n",
      " '0975' '0976' '0977' '0978' '0979' '0980' '0981' '0982' '0983' '0984'] \n",
      "['0965' '0966' '0967' '0968' '0969' '0970' '0971' '0972' '0973' '0974'\n",
      " '0975' '0976' '0977' '0978' '0979' '0980' '0981' '0982' '0983' '0984']\n",
      "(20, 200) (380, 200) (20,) (380,)\n",
      "1\n",
      "stand out samples:\n",
      "[1, 21, 41, 61, 81, 101, 121, 141, 161, 181, 201, 221, 241, 261, 281, 301, 321, 341, 361, 381]\n",
      "['0965' '0966' '0967' '0968' '0969' '0970' '0971' '0972' '0973' '0974'\n",
      " '0975' '0976' '0977' '0978' '0979' '0980' '0981' '0982' '0983' '0984'] \n",
      "['0965' '0966' '0967' '0968' '0969' '0970' '0971' '0972' '0973' '0974'\n",
      " '0975' '0976' '0977' '0978' '0979' '0980' '0981' '0982' '0983' '0984']\n",
      "(20, 200) (380, 200) (20,) (380,)\n",
      "2\n",
      "stand out samples:\n",
      "[2, 22, 42, 62, 82, 102, 122, 142, 162, 182, 202, 222, 242, 262, 282, 302, 322, 342, 362, 382]\n",
      "['0965' '0966' '0967' '0968' '0969' '0970' '0971' '0972' '0973' '0974'\n",
      " '0975' '0976' '0977' '0978' '0979' '0980' '0981' '0982' '0983' '0984'] \n",
      "['0965' '0966' '0967' '0968' '0969' '0970' '0971' '0972' '0973' '0974'\n",
      " '0975' '0976' '0977' '0978' '0979' '0980' '0981' '0982' '0983' '0984']\n",
      "(20, 200) (380, 200) (20,) (380,)\n",
      "3\n",
      "stand out samples:\n",
      "[3, 23, 43, 63, 83, 103, 123, 143, 163, 183, 203, 223, 243, 263, 283, 303, 323, 343, 363, 383]\n",
      "['0965' '0966' '0967' '0968' '0969' '0970' '0971' '0972' '0973' '0974'\n",
      " '0975' '0976' '0977' '0978' '0979' '0980' '0981' '0982' '0983' '0984'] \n",
      "['0965' '0966' '0967' '0968' '0969' '0970' '0971' '0972' '0973' '0974'\n",
      " '0975' '0976' '0977' '0978' '0979' '0980' '0981' '0982' '0983' '0984']\n",
      "(20, 200) (380, 200) (20,) (380,)\n",
      "4\n",
      "stand out samples:\n",
      "[4, 24, 44, 64, 84, 104, 124, 144, 164, 184, 204, 224, 244, 264, 284, 304, 324, 344, 364, 384]\n",
      "['0965' '0966' '0967' '0968' '0969' '0970' '0971' '0972' '0973' '0974'\n",
      " '0975' '0976' '0977' '0978' '0979' '0980' '0981' '0982' '0983' '0984'] \n",
      "['0965' '0966' '0967' '0968' '0969' '0970' '0971' '0972' '0973' '0974'\n",
      " '0975' '0976' '0977' '0978' '0979' '0980' '0981' '0982' '0983' '0984']\n",
      "(20, 200) (380, 200) (20,) (380,)\n",
      "5\n",
      "stand out samples:\n",
      "[5, 25, 45, 65, 85, 105, 125, 145, 165, 185, 205, 225, 245, 265, 285, 305, 325, 345, 365, 385]\n",
      "['0965' '0966' '0967' '0968' '0969' '0970' '0971' '0972' '0973' '0974'\n",
      " '0975' '0976' '0977' '0978' '0979' '0980' '0981' '0982' '0983' '0984'] \n",
      "['0965' '0966' '0967' '0968' '0969' '0970' '0971' '0972' '0973' '0974'\n",
      " '0975' '0976' '0977' '0978' '0979' '0980' '0981' '0982' '0983' '0984']\n",
      "(20, 200) (380, 200) (20,) (380,)\n",
      "6\n",
      "stand out samples:\n",
      "[6, 26, 46, 66, 86, 106, 126, 146, 166, 186, 206, 226, 246, 266, 286, 306, 326, 346, 366, 386]\n",
      "['0965' '0966' '0967' '0968' '0969' '0970' '0971' '0972' '0973' '0974'\n",
      " '0975' '0976' '0977' '0978' '0979' '0980' '0981' '0982' '0983' '0984'] \n",
      "['0965' '0966' '0967' '0968' '0969' '0970' '0971' '0972' '0973' '0974'\n",
      " '0975' '0976' '0977' '0978' '0979' '0980' '0981' '0982' '0983' '0984']\n",
      "(20, 200) (380, 200) (20,) (380,)\n",
      "7\n",
      "stand out samples:\n",
      "[7, 27, 47, 67, 87, 107, 127, 147, 167, 187, 207, 227, 247, 267, 287, 307, 327, 347, 367, 387]\n",
      "['0965' '0966' '0967' '0968' '0969' '0970' '0971' '0972' '0973' '0974'\n",
      " '0975' '0976' '0977' '0978' '0979' '0980' '0981' '0982' '0983' '0984'] \n",
      "['0965' '0966' '0967' '0968' '0969' '0970' '0971' '0972' '0973' '0974'\n",
      " '0975' '0976' '0977' '0978' '0979' '0980' '0981' '0982' '0983' '0984']\n",
      "(20, 200) (380, 200) (20,) (380,)\n",
      "8\n",
      "stand out samples:\n",
      "[8, 28, 48, 68, 88, 108, 128, 148, 168, 188, 208, 228, 248, 268, 288, 308, 328, 348, 368, 388]\n",
      "['0965' '0966' '0967' '0968' '0969' '0970' '0971' '0972' '0973' '0974'\n",
      " '0975' '0976' '0977' '0978' '0979' '0980' '0981' '0982' '0983' '0984'] \n",
      "['0965' '0966' '0967' '0968' '0969' '0970' '0971' '0972' '0973' '0974'\n",
      " '0975' '0976' '0977' '0978' '0979' '0980' '0981' '0982' '0983' '0984']\n",
      "(20, 200) (380, 200) (20,) (380,)\n",
      "9\n",
      "stand out samples:\n",
      "[9, 29, 49, 69, 89, 109, 129, 149, 169, 189, 209, 229, 249, 269, 289, 309, 329, 349, 369, 389]\n",
      "['0965' '0966' '0967' '0968' '0969' '0970' '0971' '0972' '0973' '0974'\n",
      " '0975' '0976' '0977' '0978' '0979' '0980' '0981' '0982' '0983' '0984'] \n",
      "['0965' '0966' '0967' '0968' '0969' '0970' '0971' '0972' '0973' '0974'\n",
      " '0975' '0976' '0977' '0978' '0979' '0980' '0981' '0982' '0983' '0984']\n",
      "(20, 200) (380, 200) (20,) (380,)\n",
      "10\n",
      "stand out samples:\n",
      "[10, 30, 50, 70, 90, 110, 130, 150, 170, 190, 210, 230, 250, 270, 290, 310, 330, 350, 370, 390]\n",
      "['0965' '0966' '0967' '0968' '0969' '0970' '0971' '0972' '0973' '0974'\n",
      " '0975' '0976' '0977' '0978' '0979' '0980' '0981' '0982' '0983' '0984'] \n",
      "['0965' '0966' '0967' '0968' '0969' '0970' '0971' '0972' '0973' '0974'\n",
      " '0975' '0976' '0977' '0978' '0979' '0980' '0981' '0982' '0983' '0984']\n",
      "(20, 200) (380, 200) (20,) (380,)\n",
      "11\n",
      "stand out samples:\n",
      "[11, 31, 51, 71, 91, 111, 131, 151, 171, 191, 211, 231, 251, 271, 291, 311, 331, 351, 371, 391]\n",
      "['0965' '0966' '0967' '0968' '0969' '0970' '0971' '0972' '0973' '0974'\n",
      " '0975' '0976' '0977' '0978' '0979' '0980' '0981' '0982' '0983' '0984'] \n",
      "['0965' '0966' '0967' '0968' '0969' '0970' '0971' '0972' '0973' '0974'\n",
      " '0975' '0976' '0977' '0978' '0979' '0980' '0981' '0982' '0983' '0984']\n",
      "(20, 200) (380, 200) (20,) (380,)\n",
      "12\n",
      "stand out samples:\n",
      "[12, 32, 52, 72, 92, 112, 132, 152, 172, 192, 212, 232, 252, 272, 292, 312, 332, 352, 372, 392]\n",
      "['0965' '0966' '0967' '0968' '0969' '0970' '0971' '0972' '0973' '0974'\n",
      " '0975' '0976' '0977' '0978' '0979' '0980' '0981' '0982' '0983' '0984'] \n",
      "['0965' '0966' '0967' '0968' '0969' '0970' '0971' '0972' '0973' '0974'\n",
      " '0975' '0976' '0977' '0978' '0979' '0980' '0981' '0982' '0983' '0984']\n",
      "(20, 200) (380, 200) (20,) (380,)\n",
      "13\n",
      "stand out samples:\n",
      "[13, 33, 53, 73, 93, 113, 133, 153, 173, 193, 213, 233, 253, 273, 293, 313, 333, 353, 373, 393]\n",
      "['0965' '0966' '0967' '0968' '0969' '0970' '0971' '0972' '0973' '0974'\n",
      " '0975' '0976' '0977' '0978' '0979' '0980' '0981' '0982' '0983' '0984'] \n",
      "['0965' '0966' '0967' '0968' '0969' '0970' '0971' '0972' '0973' '0974'\n",
      " '0975' '0976' '0977' '0978' '0979' '0980' '0981' '0982' '0983' '0984']\n",
      "(20, 200) (380, 200) (20,) (380,)\n",
      "14\n",
      "stand out samples:\n",
      "[14, 34, 54, 74, 94, 114, 134, 154, 174, 194, 214, 234, 254, 274, 294, 314, 334, 354, 374, 394]\n",
      "['0965' '0966' '0967' '0968' '0969' '0970' '0971' '0972' '0973' '0974'\n",
      " '0975' '0976' '0977' '0978' '0979' '0980' '0981' '0982' '0983' '0984'] \n",
      "['0965' '0966' '0967' '0968' '0969' '0970' '0971' '0972' '0973' '0974'\n",
      " '0975' '0976' '0977' '0978' '0979' '0980' '0981' '0982' '0983' '0984']\n",
      "(20, 200) (380, 200) (20,) (380,)\n",
      "15\n",
      "stand out samples:\n",
      "[15, 35, 55, 75, 95, 115, 135, 155, 175, 195, 215, 235, 255, 275, 295, 315, 335, 355, 375, 395]\n",
      "['0965' '0966' '0967' '0968' '0969' '0970' '0971' '0972' '0973' '0974'\n",
      " '0975' '0976' '0977' '0978' '0979' '0980' '0981' '0982' '0983' '0984'] \n",
      "['0965' '0966' '0967' '0968' '0969' '0970' '0971' '0972' '0973' '0974'\n",
      " '0975' '0976' '0977' '0978' '0979' '0980' '0981' '0982' '0983' '0984']\n",
      "(20, 200) (380, 200) (20,) (380,)\n",
      "16\n",
      "stand out samples:\n",
      "[16, 36, 56, 76, 96, 116, 136, 156, 176, 196, 216, 236, 256, 276, 296, 316, 336, 356, 376, 396]\n",
      "['0965' '0966' '0967' '0968' '0969' '0970' '0971' '0972' '0973' '0974'\n",
      " '0975' '0976' '0977' '0978' '0979' '0980' '0981' '0982' '0983' '0984'] \n",
      "['0965' '0966' '0967' '0968' '0969' '0970' '0971' '0972' '0973' '0974'\n",
      " '0975' '0976' '0977' '0978' '0979' '0980' '0981' '0982' '0983' '0984']\n",
      "(20, 200) (380, 200) (20,) (380,)\n",
      "17\n",
      "stand out samples:\n",
      "[17, 37, 57, 77, 97, 117, 137, 157, 177, 197, 217, 237, 257, 277, 297, 317, 337, 357, 377, 397]\n",
      "['0965' '0966' '0967' '0968' '0969' '0970' '0971' '0972' '0973' '0974'\n",
      " '0975' '0976' '0977' '0978' '0979' '0980' '0981' '0982' '0983' '0984'] \n",
      "['0965' '0966' '0967' '0968' '0969' '0970' '0971' '0972' '0973' '0974'\n",
      " '0975' '0976' '0977' '0978' '0979' '0980' '0981' '0982' '0983' '0984']\n",
      "(20, 200) (380, 200) (20,) (380,)\n",
      "18\n",
      "stand out samples:\n",
      "[18, 38, 58, 78, 98, 118, 138, 158, 178, 198, 218, 238, 258, 278, 298, 318, 338, 358, 378, 398]\n",
      "['0965' '0966' '0967' '0968' '0969' '0970' '0971' '0972' '0973' '0974'\n",
      " '0975' '0976' '0977' '0978' '0979' '0980' '0981' '0982' '0983' '0984'] \n",
      "['0965' '0966' '0967' '0968' '0969' '0970' '0971' '0972' '0973' '0974'\n",
      " '0975' '0976' '0977' '0978' '0979' '0980' '0981' '0982' '0983' '0984']\n",
      "(20, 200) (380, 200) (20,) (380,)\n",
      "19\n",
      "stand out samples:\n",
      "[19, 39, 59, 79, 99, 119, 139, 159, 179, 199, 219, 239, 259, 279, 299, 319, 339, 359, 379, 399]\n",
      "['0965' '0966' '0967' '0968' '0969' '0970' '0971' '0972' '0973' '0974'\n",
      " '0975' '0976' '0977' '0978' '0979' '0980' '0981' '0982' '0983' '0984'] \n",
      "['0965' '0966' '0967' '0968' '0969' '0970' '0971' '0972' '0973' '0974'\n",
      " '0975' '0976' '0977' '0978' '0979' '0980' '0981' '0982' '0983' '0984']\n",
      "(20, 200) (380, 200) (20,) (380,)\n",
      "\n",
      " mean test accuracy on  20 sets of 20-way classification: 78.25 %\n",
      "\n",
      " (mean train accuracy on  20 sets of 20-way classification: 100.0 %\n",
      "\n",
      " max test accuracy on  20 sets of 20-way classification: 95.0 %\n"
     ]
    }
   ],
   "source": [
    "## 20 class classfication (for 1st 20 classes of the eval data set using leave one out method)\n",
    "enc_test=encode(x_test[:20*20]) #take all 20 examples of 1st 20 classes\n",
    "print np.shape(enc_test)\n",
    "\n",
    "all_score_test=[]\n",
    "all_score_train=[]\n",
    "for i in range(20): #keep out the ith samples, train on the rest\n",
    "    print i\n",
    "    x_20_test=enc_test[i::20]; #take the ith samples for testing\n",
    "    y_20_test=y_test[:20*20][i::20]; #take the ith samples for testing for 1st 20 classes\n",
    "    x_20_train=np.delete(enc_test, range(i,enc_test.shape[0],20), axis=0) #remove the ith samples for training\n",
    "    y_20_train=np.delete(y_test[:20*20], range(i,enc_test.shape[0],20), axis=0) #remove the ith samples for training for the 1st 20 classes\n",
    "\n",
    "    print 'stand out samples:\\n',range(i,enc_test.shape[0],20)\n",
    "\n",
    "    print np.unique(y_20_test),'\\n', np.unique(y_20_train)\n",
    "    print np.shape(x_20_test), np.shape(x_20_train), np.shape(y_20_test), np.shape(y_20_train)\n",
    "\n",
    "    classifier=SVC(kernel='linear').fit(x_20_train,y_20_train) #default rbf kernel\n",
    "    y_val=np.asarray(y_val,dtype=int)\n",
    "    score_test=classifier.score(x_20_test,y_20_test)\n",
    "    score_train=classifier.score(x_20_train, y_20_train)\n",
    "    #print \"mean accuracy on 20 classes (Linear SVM  kernel):\",score_test*100,'%'\n",
    "    #print \"mean accuracy on 20 classes (Linear SVM  kernel):\",score_train*100,'%'\n",
    "    all_score_test.append(score_test)\n",
    "    all_score_train.append(score_train)\n",
    "print \"\\n mean test accuracy on \", len(all_score_test), \"sets of 20-way classification:\", np.mean(all_score_test)*100,\"%\"\n",
    "print \"\\n (mean train accuracy on \", len(all_score_train), \"sets of 20-way classification:\", np.mean(all_score_train)*100,\"%\"\n",
    "print \"\\n max test accuracy on \", len(all_score_test), \"sets of 20-way classification:\", np.max(all_score_test)*100,\"%\""
   ]
  },
  {
   "cell_type": "code",
   "execution_count": 14,
   "metadata": {
    "collapsed": false
   },
   "outputs": [
    {
     "data": {
      "text/plain": [
       "<matplotlib.text.Text at 0x7efc22a7c610>"
      ]
     },
     "execution_count": 14,
     "metadata": {},
     "output_type": "execute_result"
    },
    {
     "data": {
      "image/png": "[encoded data removed]",
      "text/plain": [
       "<matplotlib.figure.Figure at 0x7efc9ad3c8d0>"
      ]
     },
     "metadata": {},
     "output_type": "display_data"
    }
   ],
   "source": [
    "##Samples:\n",
    "#Draw from the prior and sample (random)\n",
    "row=col=10\n",
    "noSamples=row*col\n",
    "Z=P_z(size=(noSamples,myOpts.n_hidden))  #Draw latent samples from the prior\n",
    "x_samples=sample(Z).reshape(noSamples,105,105)  #synthesise novel data samples\n",
    "#display as montage\n",
    "montage=np.zeros((row*105,col*105))\n",
    "n=0\n",
    "for r in range(row):\n",
    "    for c in range(col):\n",
    "        montage[r*105:(r+1)*105,c*105:(c+1)*105]=x_samples[n].reshape(105,105); n+=1;\n",
    "plt.imshow(montage,cmap='gray')\n",
    "plt.title('Generate Samples')"
   ]
  },
  {
   "cell_type": "code",
   "execution_count": 16,
   "metadata": {
    "collapsed": false,
    "scrolled": true
   },
   "outputs": [
    {
     "name": "stdout",
     "output_type": "stream",
     "text": [
      " 11025\n",
      "0.1\n",
      "0 18.9730379581 -20378.6072823\n",
      "0.129154966501\n",
      "0 11.3530368805 -8930.33581641\n",
      "0.16681005372\n",
      "0 10.1754319668 -3196.99389076\n",
      "0.215443469003\n",
      "0 8.55655312538 -889.662341721\n",
      "0.278255940221\n",
      "0 79.4642369747 -636.172051586\n",
      "0.35938136638\n",
      "0 72.6234200001 -1613.92876515\n",
      "0.464158883361\n",
      "0 83.5051190853 -3329.79864136\n",
      "0.599484250319\n",
      "0 76.498773098 -5488.15287531\n",
      "0.774263682681\n",
      "0 8.62471795082 -7911.76430798\n",
      "1.0\n",
      "0 8.60708999634 -10494.3873213\n",
      "sigma*= 0.278255940221\n"
     ]
    }
   ],
   "source": [
    "## log likelihood using theano\n",
    "noSamples=10**3\n",
    "Z=P_z(size=(noSamples,myOpts.n_hidden))\n",
    "feats=np.product(x_train.shape[1:]) #number of dimension\n",
    "print feats\n",
    "x_sample=sample(Z)\n",
    "#cross val to find a sigma\n",
    "batch_size=32\n",
    "sigma_range = np.logspace(-1, 0, num=10)\n",
    "sigma = cross_validate_sigma(x_sample.reshape(-1,feats), x_val.reshape(-1,feats), sigma_range, batch_size)\n",
    "print \"sigma*=\",sigma"
   ]
  },
  {
   "cell_type": "code",
   "execution_count": 17,
   "metadata": {
    "collapsed": false
   },
   "outputs": [
    {
     "name": "stdout",
     "output_type": "stream",
     "text": [
      "0 7.97783517838 -1052.05079969\n",
      "100 12.0455096429 -706.405678283\n",
      "200 10.6868425341 -726.995852523\n",
      "300 10.3013605976 -662.235282155\n",
      "400 10.1715181766 -649.977371639\n",
      "Log-Likelihood of test set = -642.614217366, se: 14.2282194457\n",
      "0 9.63399791718 -691.400193031\n",
      "Log-Likelihood of valid set = -434.527532242, se: 51.5128854677\n"
     ]
    }
   ],
   "source": [
    "# fit and evaulate\n",
    "parzen = theano_parzen(x_sample.reshape(-1,feats), sigma)\n",
    "ll = get_nll(x_test.reshape(-1,feats), parzen, batch_size = batch_size)\n",
    "se = ll.std() / np.sqrt(x_test.shape[0])\n",
    "\n",
    "print \"Log-Likelihood of test set = {}, se: {}\".format(ll.mean(), se)\n",
    "\n",
    "# valid (draw new set of image samples)\n",
    "Z=P_z(size=(noSamples,myOpts.n_hidden))\n",
    "x_sample=sample(Z)\n",
    "parzen = theano_parzen(x_sample.reshape(-1,feats), sigma)\n",
    "ll = get_nll(x_val.reshape(-1,feats), parzen, batch_size = batch_size)\n",
    "se = ll.std() / np.sqrt(x_val.shape[0])\n",
    "print \"Log-Likelihood of valid set = {}, se: {}\".format(ll.mean(), se)"
   ]
  },
  {
   "cell_type": "code",
   "execution_count": null,
   "metadata": {
    "collapsed": true
   },
   "outputs": [],
   "source": [
    "exit()"
   ]
  },
  {
   "cell_type": "code",
   "execution_count": null,
   "metadata": {
    "collapsed": true
   },
   "outputs": [],
   "source": []
  }
 ],
 "metadata": {
  "kernelspec": {
   "display_name": "Python 2",
   "language": "python",
   "name": "python2"
  },
  "language_info": {
   "codemirror_mode": {
    "name": "ipython",
    "version": 2
   },
   "file_extension": ".py",
   "mimetype": "text/x-python",
   "name": "python",
   "nbconvert_exporter": "python",
   "pygments_lexer": "ipython2",
   "version": "2.7.6"
  }
 },
 "nbformat": 4,
 "nbformat_minor": 2
}
